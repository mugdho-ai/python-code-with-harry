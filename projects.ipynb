{
 "cells": [
  {
   "cell_type": "code",
   "execution_count": null,
   "id": "9063aa8c-6457-4d2e-87d6-6dd62fbdac06",
   "metadata": {},
   "outputs": [],
   "source": [
    "import random\n"
   ]
  },
  {
   "cell_type": "code",
   "execution_count": null,
   "id": "3145de44-b9c2-4f4f-9dac-0e70a6efba81",
   "metadata": {},
   "outputs": [
    {
     "name": "stdout",
     "output_type": "stream",
     "text": [
      "enter your choice (Y/N):  2\n"
     ]
    },
    {
     "name": "stdout",
     "output_type": "stream",
     "text": [
      "invalid input\n"
     ]
    },
    {
     "name": "stdout",
     "output_type": "stream",
     "text": [
      "enter your choice (Y/N):  a\n"
     ]
    },
    {
     "name": "stdout",
     "output_type": "stream",
     "text": [
      "invalid input\n"
     ]
    },
    {
     "name": "stdout",
     "output_type": "stream",
     "text": [
      "enter your choice (Y/N):  b\n"
     ]
    },
    {
     "name": "stdout",
     "output_type": "stream",
     "text": [
      "invalid input\n"
     ]
    },
    {
     "name": "stdout",
     "output_type": "stream",
     "text": [
      "enter your choice (Y/N):  y\n"
     ]
    },
    {
     "name": "stdout",
     "output_type": "stream",
     "text": [
      "your choice is (5,4)\n"
     ]
    },
    {
     "name": "stdout",
     "output_type": "stream",
     "text": [
      "enter your choice (Y/N):  n\n"
     ]
    },
    {
     "name": "stdout",
     "output_type": "stream",
     "text": [
      "Thanks for playing..\n"
     ]
    }
   ],
   "source": [
    "while True:\n",
    "    user_input = input(\"enter your choice (Y/N): \").lower()\n",
    "    \n",
    "    if user_input == \"y\" :\n",
    "        num1 = random.randint(1,6)\n",
    "        num2 = random.randint(1,6)\n",
    "        print(f\"your choice is ({num1},{num2})\")\n",
    "                \n",
    "    elif (user_input == \"n\") :\n",
    "                print(\"Thanks for playing..\")\n",
    "                break\n",
    "    else:\n",
    "        print(\"invalid input\")\n",
    "        continue\n",
    "    "
   ]
  },
  {
   "cell_type": "code",
   "execution_count": null,
   "id": "3c849c39-7423-4eb1-a20f-aad92d7db9f2",
   "metadata": {},
   "outputs": [],
   "source": [
    "#project 2\n"
   ]
  },
  {
   "cell_type": "code",
   "execution_count": null,
   "id": "b1cd1f94-62d5-47db-9b04-29c23219632e",
   "metadata": {},
   "outputs": [],
   "source": []
  }
 ],
 "metadata": {
  "kernelspec": {
   "display_name": "Python [conda env:base] *",
   "language": "python",
   "name": "conda-base-py"
  },
  "language_info": {
   "codemirror_mode": {
    "name": "ipython",
    "version": 3
   },
   "file_extension": ".py",
   "mimetype": "text/x-python",
   "name": "python",
   "nbconvert_exporter": "python",
   "pygments_lexer": "ipython3",
   "version": "3.13.5"
  }
 },
 "nbformat": 4,
 "nbformat_minor": 5
}
