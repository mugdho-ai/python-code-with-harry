{
 "cells": [
  {
   "cell_type": "code",
   "execution_count": 1,
   "id": "7edd3b4d-dc53-43dd-a16b-8c210558b53f",
   "metadata": {},
   "outputs": [
    {
     "name": "stdout",
     "output_type": "stream",
     "text": [
      "0 -11 02 13 24 35 46 57 68 79 8\n",
      "there we go.... welcome to mugdho AI . \n",
      "your promt is so amazing let me anyalize it takes a few sec...\n",
      "✅ analyzing\n",
      "✅✅ analyzing\n",
      "✅✅✅ analyzing\n"
     ]
    }
   ],
   "source": [
    "def mugdho():\n",
    "    i = 10\n",
    "    for num in range(i):\n",
    "        print(num,num-1, end=\"\")\n",
    "mugdho()\n",
    "\n",
    "def ai_0893(your_promt , your_name):\n",
    "    print(\"\\nthere we go.... welcome to mugdho AI . \\nyour promt is so amazing let me anyalize it takes a few sec...\")\n",
    "    for i in range(3):\n",
    "        print((i+1)*\"✅\",\"analyzing\")\n",
    "\n",
    "ai_0893(\"how to make a plane\",\"MD. Mugdho\")\n"
   ]
  },
  {
   "cell_type": "code",
   "execution_count": 2,
   "id": "fc15033a-2acd-4f9b-b636-ffc398bacfbb",
   "metadata": {},
   "outputs": [
    {
     "ename": "SyntaxError",
     "evalue": "expected ':' (3997290539.py, line 1)",
     "output_type": "error",
     "traceback": [
      "\u001b[1;36m  Cell \u001b[1;32mIn[2], line 1\u001b[1;36m\u001b[0m\n\u001b[1;33m    while true\u001b[0m\n\u001b[1;37m              ^\u001b[0m\n\u001b[1;31mSyntaxError\u001b[0m\u001b[1;31m:\u001b[0m expected ':'\n"
     ]
    }
   ],
   "source": [
    "while true\n"
   ]
  },
  {
   "cell_type": "code",
   "execution_count": null,
   "id": "8cada5f2-1b39-4501-b597-15bc62a6c13a",
   "metadata": {},
   "outputs": [],
   "source": []
  }
 ],
 "metadata": {
  "kernelspec": {
   "display_name": "Python [conda env:base] *",
   "language": "python",
   "name": "conda-base-py"
  },
  "language_info": {
   "codemirror_mode": {
    "name": "ipython",
    "version": 3
   },
   "file_extension": ".py",
   "mimetype": "text/x-python",
   "name": "python",
   "nbconvert_exporter": "python",
   "pygments_lexer": "ipython3",
   "version": "3.13.5"
  }
 },
 "nbformat": 4,
 "nbformat_minor": 5
}
